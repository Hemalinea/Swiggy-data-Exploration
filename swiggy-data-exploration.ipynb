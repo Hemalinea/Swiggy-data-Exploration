{
 "cells": [
  {
   "cell_type": "markdown",
   "metadata": {},
   "source": [
    "# **Introduction**"
   ]
  },
  {
   "cell_type": "markdown",
   "metadata": {},
   "source": [
    "In recent years, the food delivery landscape has witnessed a remarkable transformation, driven by the proliferation of online platforms catering to the growing demand for convenience and variety in dining experiences. Among these platforms, Swiggy has emerged as a frontrunner, revolutionizing the way people order and enjoy food in India.\n",
    "\n",
    "* Established in 2014, Swiggy has swiftly risen to prominence as a leading online food delivery service, redefining the culinary experience for millions of users across the country. With its user-friendly app and extensive network of restaurant partners, Swiggy has become synonymous with convenience, choice, and reliability in the realm of food delivery.\n",
    "\n",
    "* Swiggy's journey epitomizes the fusion of technology, innovation, and customer-centricity that has reshaped the way people dine in the digital age."
   ]
  },
  {
   "cell_type": "markdown",
   "metadata": {},
   "source": [
    "# **Importing Modules**"
   ]
  },
  {
   "cell_type": "code",
   "execution_count": 1,
   "metadata": {
    "execution": {
     "iopub.execute_input": "2024-04-03T14:05:36.869280Z",
     "iopub.status.busy": "2024-04-03T14:05:36.868824Z",
     "iopub.status.idle": "2024-04-03T14:05:39.466941Z",
     "shell.execute_reply": "2024-04-03T14:05:39.465768Z",
     "shell.execute_reply.started": "2024-04-03T14:05:36.869249Z"
    }
   },
   "outputs": [],
   "source": [
    "import pandas as pd # data processing, CSV file I/O (e.g. pd.read_csv)\n",
    "import matplotlib.pyplot as plt #creating static, animated, and interactive visualizations\n",
    "import seaborn as sns # making statistical graphs \n",
    "import numpy as np # linear algebra and for mathamatical calculation\n",
    "import plotly.express as px # create entire figures at once"
   ]
  },
  {
   "cell_type": "markdown",
   "metadata": {},
   "source": [
    "# Loading data"
   ]
  },
  {
   "cell_type": "code",
   "execution_count": 2,
   "metadata": {
    "execution": {
     "iopub.execute_input": "2024-04-03T14:05:39.468698Z",
     "iopub.status.busy": "2024-04-03T14:05:39.468370Z",
     "iopub.status.idle": "2024-04-03T14:05:39.548011Z",
     "shell.execute_reply": "2024-04-03T14:05:39.547164Z",
     "shell.execute_reply.started": "2024-04-03T14:05:39.468671Z"
    }
   },
   "outputs": [
    {
     "data": {
      "text/html": [
       "<div>\n",
       "<style scoped>\n",
       "    .dataframe tbody tr th:only-of-type {\n",
       "        vertical-align: middle;\n",
       "    }\n",
       "\n",
       "    .dataframe tbody tr th {\n",
       "        vertical-align: top;\n",
       "    }\n",
       "\n",
       "    .dataframe thead th {\n",
       "        text-align: right;\n",
       "    }\n",
       "</style>\n",
       "<table border=\"1\" class=\"dataframe\">\n",
       "  <thead>\n",
       "    <tr style=\"text-align: right;\">\n",
       "      <th></th>\n",
       "      <th>Area</th>\n",
       "      <th>City</th>\n",
       "      <th>Restaurant</th>\n",
       "      <th>Price</th>\n",
       "      <th>Avg ratings</th>\n",
       "      <th>Total ratings</th>\n",
       "      <th>Food type</th>\n",
       "      <th>Address</th>\n",
       "      <th>Delivery time</th>\n",
       "    </tr>\n",
       "  </thead>\n",
       "  <tbody>\n",
       "    <tr>\n",
       "      <th>0</th>\n",
       "      <td>Koramangala</td>\n",
       "      <td>Bangalore</td>\n",
       "      <td>Tandoor Hut</td>\n",
       "      <td>300</td>\n",
       "      <td>4.4</td>\n",
       "      <td>100</td>\n",
       "      <td>Biryani,Chinese,North Indian,South Indian</td>\n",
       "      <td>5Th Block</td>\n",
       "      <td>59</td>\n",
       "    </tr>\n",
       "    <tr>\n",
       "      <th>1</th>\n",
       "      <td>Koramangala</td>\n",
       "      <td>Bangalore</td>\n",
       "      <td>Tunday Kababi</td>\n",
       "      <td>300</td>\n",
       "      <td>4.1</td>\n",
       "      <td>100</td>\n",
       "      <td>Mughlai,Lucknowi</td>\n",
       "      <td>5Th Block</td>\n",
       "      <td>56</td>\n",
       "    </tr>\n",
       "    <tr>\n",
       "      <th>2</th>\n",
       "      <td>Jogupalya</td>\n",
       "      <td>Bangalore</td>\n",
       "      <td>Kim Lee</td>\n",
       "      <td>650</td>\n",
       "      <td>4.4</td>\n",
       "      <td>100</td>\n",
       "      <td>Chinese</td>\n",
       "      <td>Double Road</td>\n",
       "      <td>50</td>\n",
       "    </tr>\n",
       "    <tr>\n",
       "      <th>3</th>\n",
       "      <td>Indiranagar</td>\n",
       "      <td>Bangalore</td>\n",
       "      <td>New Punjabi Hotel</td>\n",
       "      <td>250</td>\n",
       "      <td>3.9</td>\n",
       "      <td>500</td>\n",
       "      <td>North Indian,Punjabi,Tandoor,Chinese</td>\n",
       "      <td>80 Feet Road</td>\n",
       "      <td>57</td>\n",
       "    </tr>\n",
       "    <tr>\n",
       "      <th>4</th>\n",
       "      <td>Indiranagar</td>\n",
       "      <td>Bangalore</td>\n",
       "      <td>Nh8</td>\n",
       "      <td>350</td>\n",
       "      <td>4.0</td>\n",
       "      <td>50</td>\n",
       "      <td>Rajasthani,Gujarati,North Indian,Snacks,Desser...</td>\n",
       "      <td>80 Feet Road</td>\n",
       "      <td>63</td>\n",
       "    </tr>\n",
       "    <tr>\n",
       "      <th>...</th>\n",
       "      <td>...</td>\n",
       "      <td>...</td>\n",
       "      <td>...</td>\n",
       "      <td>...</td>\n",
       "      <td>...</td>\n",
       "      <td>...</td>\n",
       "      <td>...</td>\n",
       "      <td>...</td>\n",
       "      <td>...</td>\n",
       "    </tr>\n",
       "    <tr>\n",
       "      <th>8675</th>\n",
       "      <td>Panjarapole Cross Road</td>\n",
       "      <td>Ahmedabad</td>\n",
       "      <td>Malt Pizza</td>\n",
       "      <td>500</td>\n",
       "      <td>2.9</td>\n",
       "      <td>80</td>\n",
       "      <td>Pizzas</td>\n",
       "      <td>Navrangpura</td>\n",
       "      <td>40</td>\n",
       "    </tr>\n",
       "    <tr>\n",
       "      <th>8676</th>\n",
       "      <td>Rohini</td>\n",
       "      <td>Delhi</td>\n",
       "      <td>Jay Mata Ji Home Kitchen</td>\n",
       "      <td>200</td>\n",
       "      <td>2.9</td>\n",
       "      <td>80</td>\n",
       "      <td>South Indian</td>\n",
       "      <td>Rohini</td>\n",
       "      <td>28</td>\n",
       "    </tr>\n",
       "    <tr>\n",
       "      <th>8677</th>\n",
       "      <td>Rohini</td>\n",
       "      <td>Delhi</td>\n",
       "      <td>Chinese Kitchen King</td>\n",
       "      <td>150</td>\n",
       "      <td>2.9</td>\n",
       "      <td>80</td>\n",
       "      <td>Chinese,Snacks,Tandoor</td>\n",
       "      <td>Rohini</td>\n",
       "      <td>58</td>\n",
       "    </tr>\n",
       "    <tr>\n",
       "      <th>8678</th>\n",
       "      <td>Rohini</td>\n",
       "      <td>Delhi</td>\n",
       "      <td>Shree Ram Paratha Wala</td>\n",
       "      <td>150</td>\n",
       "      <td>2.9</td>\n",
       "      <td>80</td>\n",
       "      <td>North Indian,Indian,Snacks</td>\n",
       "      <td>Rohini</td>\n",
       "      <td>28</td>\n",
       "    </tr>\n",
       "    <tr>\n",
       "      <th>8679</th>\n",
       "      <td>Navrangpura</td>\n",
       "      <td>Ahmedabad</td>\n",
       "      <td>Sassy Street</td>\n",
       "      <td>250</td>\n",
       "      <td>2.9</td>\n",
       "      <td>80</td>\n",
       "      <td>Chaat,Snacks,Chinese</td>\n",
       "      <td>Navrangpura</td>\n",
       "      <td>44</td>\n",
       "    </tr>\n",
       "  </tbody>\n",
       "</table>\n",
       "<p>8680 rows × 9 columns</p>\n",
       "</div>"
      ],
      "text/plain": [
       "                        Area       City                Restaurant  Price  \\\n",
       "0                Koramangala  Bangalore               Tandoor Hut    300   \n",
       "1                Koramangala  Bangalore             Tunday Kababi    300   \n",
       "2                  Jogupalya  Bangalore                   Kim Lee    650   \n",
       "3                Indiranagar  Bangalore         New Punjabi Hotel    250   \n",
       "4                Indiranagar  Bangalore                       Nh8    350   \n",
       "...                      ...        ...                       ...    ...   \n",
       "8675  Panjarapole Cross Road  Ahmedabad                Malt Pizza    500   \n",
       "8676                  Rohini      Delhi  Jay Mata Ji Home Kitchen    200   \n",
       "8677                  Rohini      Delhi      Chinese Kitchen King    150   \n",
       "8678                  Rohini      Delhi    Shree Ram Paratha Wala    150   \n",
       "8679             Navrangpura  Ahmedabad              Sassy Street    250   \n",
       "\n",
       "      Avg ratings  Total ratings  \\\n",
       "0             4.4            100   \n",
       "1             4.1            100   \n",
       "2             4.4            100   \n",
       "3             3.9            500   \n",
       "4             4.0             50   \n",
       "...           ...            ...   \n",
       "8675          2.9             80   \n",
       "8676          2.9             80   \n",
       "8677          2.9             80   \n",
       "8678          2.9             80   \n",
       "8679          2.9             80   \n",
       "\n",
       "                                              Food type       Address  \\\n",
       "0             Biryani,Chinese,North Indian,South Indian     5Th Block   \n",
       "1                                      Mughlai,Lucknowi     5Th Block   \n",
       "2                                               Chinese   Double Road   \n",
       "3                  North Indian,Punjabi,Tandoor,Chinese  80 Feet Road   \n",
       "4     Rajasthani,Gujarati,North Indian,Snacks,Desser...  80 Feet Road   \n",
       "...                                                 ...           ...   \n",
       "8675                                             Pizzas   Navrangpura   \n",
       "8676                                       South Indian        Rohini   \n",
       "8677                             Chinese,Snacks,Tandoor        Rohini   \n",
       "8678                         North Indian,Indian,Snacks        Rohini   \n",
       "8679                               Chaat,Snacks,Chinese   Navrangpura   \n",
       "\n",
       "      Delivery time  \n",
       "0                59  \n",
       "1                56  \n",
       "2                50  \n",
       "3                57  \n",
       "4                63  \n",
       "...             ...  \n",
       "8675             40  \n",
       "8676             28  \n",
       "8677             58  \n",
       "8678             28  \n",
       "8679             44  \n",
       "\n",
       "[8680 rows x 9 columns]"
      ]
     },
     "execution_count": 2,
     "metadata": {},
     "output_type": "execute_result"
    }
   ],
   "source": [
    "#importing Data File, you can use the read_csv() function and Specify the file path\n",
    "my_data= pd.read_csv(\"C:\\\\Users\\\\Hemalinea\\\\Desktop\\\\swiggy project.csv\") \n",
    "sw=my_data\n",
    "sw # Now you can work with your data stored in the DataFrame 'sw'"
   ]
  },
  {
   "cell_type": "markdown",
   "metadata": {},
   "source": [
    "# **Reading the Dataset**"
   ]
  },
  {
   "cell_type": "code",
   "execution_count": 3,
   "metadata": {
    "execution": {
     "iopub.execute_input": "2024-04-03T14:05:39.550643Z",
     "iopub.status.busy": "2024-04-03T14:05:39.550050Z",
     "iopub.status.idle": "2024-04-03T14:05:39.557815Z",
     "shell.execute_reply": "2024-04-03T14:05:39.556463Z",
     "shell.execute_reply.started": "2024-04-03T14:05:39.550606Z"
    }
   },
   "outputs": [
    {
     "data": {
      "text/plain": [
       "(8680, 9)"
      ]
     },
     "execution_count": 3,
     "metadata": {},
     "output_type": "execute_result"
    }
   ],
   "source": [
    "sw.shape # Get the dimensions of the DataFrame"
   ]
  },
  {
   "cell_type": "code",
   "execution_count": 4,
   "metadata": {
    "execution": {
     "iopub.execute_input": "2024-04-03T14:05:39.559948Z",
     "iopub.status.busy": "2024-04-03T14:05:39.559481Z",
     "iopub.status.idle": "2024-04-03T14:05:39.573842Z",
     "shell.execute_reply": "2024-04-03T14:05:39.572479Z",
     "shell.execute_reply.started": "2024-04-03T14:05:39.559906Z"
    }
   },
   "outputs": [
    {
     "data": {
      "text/plain": [
       "Index(['Area', 'City', 'Restaurant', 'Price', 'Avg ratings', 'Total ratings',\n",
       "       'Food type', 'Address', 'Delivery time'],\n",
       "      dtype='object')"
      ]
     },
     "execution_count": 4,
     "metadata": {},
     "output_type": "execute_result"
    }
   ],
   "source": [
    "sw.columns # to known the available columns in the data"
   ]
  },
  {
   "cell_type": "code",
   "execution_count": 5,
   "metadata": {
    "execution": {
     "iopub.execute_input": "2024-04-03T14:05:39.576682Z",
     "iopub.status.busy": "2024-04-03T14:05:39.575801Z",
     "iopub.status.idle": "2024-04-03T14:05:39.600659Z",
     "shell.execute_reply": "2024-04-03T14:05:39.599287Z",
     "shell.execute_reply.started": "2024-04-03T14:05:39.576635Z"
    }
   },
   "outputs": [
    {
     "data": {
      "text/html": [
       "<div>\n",
       "<style scoped>\n",
       "    .dataframe tbody tr th:only-of-type {\n",
       "        vertical-align: middle;\n",
       "    }\n",
       "\n",
       "    .dataframe tbody tr th {\n",
       "        vertical-align: top;\n",
       "    }\n",
       "\n",
       "    .dataframe thead th {\n",
       "        text-align: right;\n",
       "    }\n",
       "</style>\n",
       "<table border=\"1\" class=\"dataframe\">\n",
       "  <thead>\n",
       "    <tr style=\"text-align: right;\">\n",
       "      <th></th>\n",
       "      <th>Area</th>\n",
       "      <th>City</th>\n",
       "      <th>Restaurant</th>\n",
       "      <th>Price</th>\n",
       "      <th>Avg ratings</th>\n",
       "      <th>Total ratings</th>\n",
       "      <th>Food type</th>\n",
       "      <th>Address</th>\n",
       "      <th>Delivery time</th>\n",
       "    </tr>\n",
       "  </thead>\n",
       "  <tbody>\n",
       "    <tr>\n",
       "      <th>0</th>\n",
       "      <td>Koramangala</td>\n",
       "      <td>Bangalore</td>\n",
       "      <td>Tandoor Hut</td>\n",
       "      <td>300</td>\n",
       "      <td>4.4</td>\n",
       "      <td>100</td>\n",
       "      <td>Biryani,Chinese,North Indian,South Indian</td>\n",
       "      <td>5Th Block</td>\n",
       "      <td>59</td>\n",
       "    </tr>\n",
       "    <tr>\n",
       "      <th>1</th>\n",
       "      <td>Koramangala</td>\n",
       "      <td>Bangalore</td>\n",
       "      <td>Tunday Kababi</td>\n",
       "      <td>300</td>\n",
       "      <td>4.1</td>\n",
       "      <td>100</td>\n",
       "      <td>Mughlai,Lucknowi</td>\n",
       "      <td>5Th Block</td>\n",
       "      <td>56</td>\n",
       "    </tr>\n",
       "    <tr>\n",
       "      <th>2</th>\n",
       "      <td>Jogupalya</td>\n",
       "      <td>Bangalore</td>\n",
       "      <td>Kim Lee</td>\n",
       "      <td>650</td>\n",
       "      <td>4.4</td>\n",
       "      <td>100</td>\n",
       "      <td>Chinese</td>\n",
       "      <td>Double Road</td>\n",
       "      <td>50</td>\n",
       "    </tr>\n",
       "    <tr>\n",
       "      <th>3</th>\n",
       "      <td>Indiranagar</td>\n",
       "      <td>Bangalore</td>\n",
       "      <td>New Punjabi Hotel</td>\n",
       "      <td>250</td>\n",
       "      <td>3.9</td>\n",
       "      <td>500</td>\n",
       "      <td>North Indian,Punjabi,Tandoor,Chinese</td>\n",
       "      <td>80 Feet Road</td>\n",
       "      <td>57</td>\n",
       "    </tr>\n",
       "    <tr>\n",
       "      <th>4</th>\n",
       "      <td>Indiranagar</td>\n",
       "      <td>Bangalore</td>\n",
       "      <td>Nh8</td>\n",
       "      <td>350</td>\n",
       "      <td>4.0</td>\n",
       "      <td>50</td>\n",
       "      <td>Rajasthani,Gujarati,North Indian,Snacks,Desser...</td>\n",
       "      <td>80 Feet Road</td>\n",
       "      <td>63</td>\n",
       "    </tr>\n",
       "  </tbody>\n",
       "</table>\n",
       "</div>"
      ],
      "text/plain": [
       "          Area       City         Restaurant  Price  Avg ratings  \\\n",
       "0  Koramangala  Bangalore        Tandoor Hut    300          4.4   \n",
       "1  Koramangala  Bangalore      Tunday Kababi    300          4.1   \n",
       "2    Jogupalya  Bangalore            Kim Lee    650          4.4   \n",
       "3  Indiranagar  Bangalore  New Punjabi Hotel    250          3.9   \n",
       "4  Indiranagar  Bangalore                Nh8    350          4.0   \n",
       "\n",
       "   Total ratings                                          Food type  \\\n",
       "0            100          Biryani,Chinese,North Indian,South Indian   \n",
       "1            100                                   Mughlai,Lucknowi   \n",
       "2            100                                            Chinese   \n",
       "3            500               North Indian,Punjabi,Tandoor,Chinese   \n",
       "4             50  Rajasthani,Gujarati,North Indian,Snacks,Desser...   \n",
       "\n",
       "        Address  Delivery time  \n",
       "0     5Th Block             59  \n",
       "1     5Th Block             56  \n",
       "2   Double Road             50  \n",
       "3  80 Feet Road             57  \n",
       "4  80 Feet Road             63  "
      ]
     },
     "execution_count": 5,
     "metadata": {},
     "output_type": "execute_result"
    }
   ],
   "source": [
    "sw.head() #to retrieve the First 5 rows of the DataFrame"
   ]
  },
  {
   "cell_type": "code",
   "execution_count": 6,
   "metadata": {
    "execution": {
     "iopub.execute_input": "2024-04-03T14:05:39.605057Z",
     "iopub.status.busy": "2024-04-03T14:05:39.604702Z",
     "iopub.status.idle": "2024-04-03T14:05:39.623002Z",
     "shell.execute_reply": "2024-04-03T14:05:39.621695Z",
     "shell.execute_reply.started": "2024-04-03T14:05:39.605029Z"
    }
   },
   "outputs": [
    {
     "data": {
      "text/html": [
       "<div>\n",
       "<style scoped>\n",
       "    .dataframe tbody tr th:only-of-type {\n",
       "        vertical-align: middle;\n",
       "    }\n",
       "\n",
       "    .dataframe tbody tr th {\n",
       "        vertical-align: top;\n",
       "    }\n",
       "\n",
       "    .dataframe thead th {\n",
       "        text-align: right;\n",
       "    }\n",
       "</style>\n",
       "<table border=\"1\" class=\"dataframe\">\n",
       "  <thead>\n",
       "    <tr style=\"text-align: right;\">\n",
       "      <th></th>\n",
       "      <th>Area</th>\n",
       "      <th>City</th>\n",
       "      <th>Restaurant</th>\n",
       "      <th>Price</th>\n",
       "      <th>Avg ratings</th>\n",
       "      <th>Total ratings</th>\n",
       "      <th>Food type</th>\n",
       "      <th>Address</th>\n",
       "      <th>Delivery time</th>\n",
       "    </tr>\n",
       "  </thead>\n",
       "  <tbody>\n",
       "    <tr>\n",
       "      <th>8675</th>\n",
       "      <td>Panjarapole Cross Road</td>\n",
       "      <td>Ahmedabad</td>\n",
       "      <td>Malt Pizza</td>\n",
       "      <td>500</td>\n",
       "      <td>2.9</td>\n",
       "      <td>80</td>\n",
       "      <td>Pizzas</td>\n",
       "      <td>Navrangpura</td>\n",
       "      <td>40</td>\n",
       "    </tr>\n",
       "    <tr>\n",
       "      <th>8676</th>\n",
       "      <td>Rohini</td>\n",
       "      <td>Delhi</td>\n",
       "      <td>Jay Mata Ji Home Kitchen</td>\n",
       "      <td>200</td>\n",
       "      <td>2.9</td>\n",
       "      <td>80</td>\n",
       "      <td>South Indian</td>\n",
       "      <td>Rohini</td>\n",
       "      <td>28</td>\n",
       "    </tr>\n",
       "    <tr>\n",
       "      <th>8677</th>\n",
       "      <td>Rohini</td>\n",
       "      <td>Delhi</td>\n",
       "      <td>Chinese Kitchen King</td>\n",
       "      <td>150</td>\n",
       "      <td>2.9</td>\n",
       "      <td>80</td>\n",
       "      <td>Chinese,Snacks,Tandoor</td>\n",
       "      <td>Rohini</td>\n",
       "      <td>58</td>\n",
       "    </tr>\n",
       "    <tr>\n",
       "      <th>8678</th>\n",
       "      <td>Rohini</td>\n",
       "      <td>Delhi</td>\n",
       "      <td>Shree Ram Paratha Wala</td>\n",
       "      <td>150</td>\n",
       "      <td>2.9</td>\n",
       "      <td>80</td>\n",
       "      <td>North Indian,Indian,Snacks</td>\n",
       "      <td>Rohini</td>\n",
       "      <td>28</td>\n",
       "    </tr>\n",
       "    <tr>\n",
       "      <th>8679</th>\n",
       "      <td>Navrangpura</td>\n",
       "      <td>Ahmedabad</td>\n",
       "      <td>Sassy Street</td>\n",
       "      <td>250</td>\n",
       "      <td>2.9</td>\n",
       "      <td>80</td>\n",
       "      <td>Chaat,Snacks,Chinese</td>\n",
       "      <td>Navrangpura</td>\n",
       "      <td>44</td>\n",
       "    </tr>\n",
       "  </tbody>\n",
       "</table>\n",
       "</div>"
      ],
      "text/plain": [
       "                        Area       City                Restaurant  Price  \\\n",
       "8675  Panjarapole Cross Road  Ahmedabad                Malt Pizza    500   \n",
       "8676                  Rohini      Delhi  Jay Mata Ji Home Kitchen    200   \n",
       "8677                  Rohini      Delhi      Chinese Kitchen King    150   \n",
       "8678                  Rohini      Delhi    Shree Ram Paratha Wala    150   \n",
       "8679             Navrangpura  Ahmedabad              Sassy Street    250   \n",
       "\n",
       "      Avg ratings  Total ratings                   Food type      Address  \\\n",
       "8675          2.9             80                      Pizzas  Navrangpura   \n",
       "8676          2.9             80                South Indian       Rohini   \n",
       "8677          2.9             80      Chinese,Snacks,Tandoor       Rohini   \n",
       "8678          2.9             80  North Indian,Indian,Snacks       Rohini   \n",
       "8679          2.9             80        Chaat,Snacks,Chinese  Navrangpura   \n",
       "\n",
       "      Delivery time  \n",
       "8675             40  \n",
       "8676             28  \n",
       "8677             58  \n",
       "8678             28  \n",
       "8679             44  "
      ]
     },
     "execution_count": 6,
     "metadata": {},
     "output_type": "execute_result"
    }
   ],
   "source": [
    "sw.tail() #to retrieve the last 5 rows of the DataFrame"
   ]
  },
  {
   "cell_type": "code",
   "execution_count": 7,
   "metadata": {
    "execution": {
     "iopub.execute_input": "2024-04-03T14:05:39.625276Z",
     "iopub.status.busy": "2024-04-03T14:05:39.624360Z",
     "iopub.status.idle": "2024-04-03T14:05:39.637179Z",
     "shell.execute_reply": "2024-04-03T14:05:39.636160Z",
     "shell.execute_reply.started": "2024-04-03T14:05:39.625242Z"
    }
   },
   "outputs": [
    {
     "data": {
      "text/plain": [
       "Area              object\n",
       "City              object\n",
       "Restaurant        object\n",
       "Price              int64\n",
       "Avg ratings      float64\n",
       "Total ratings      int64\n",
       "Food type         object\n",
       "Address           object\n",
       "Delivery time      int64\n",
       "dtype: object"
      ]
     },
     "execution_count": 7,
     "metadata": {},
     "output_type": "execute_result"
    }
   ],
   "source": [
    "sw.dtypes #to get the insights of datatypes in the dataframe"
   ]
  },
  {
   "cell_type": "code",
   "execution_count": 8,
   "metadata": {
    "execution": {
     "iopub.execute_input": "2024-04-03T14:05:39.638787Z",
     "iopub.status.busy": "2024-04-03T14:05:39.638433Z",
     "iopub.status.idle": "2024-04-03T14:05:39.676747Z",
     "shell.execute_reply": "2024-04-03T14:05:39.675487Z",
     "shell.execute_reply.started": "2024-04-03T14:05:39.638748Z"
    }
   },
   "outputs": [
    {
     "name": "stdout",
     "output_type": "stream",
     "text": [
      "<class 'pandas.core.frame.DataFrame'>\n",
      "RangeIndex: 8680 entries, 0 to 8679\n",
      "Data columns (total 9 columns):\n",
      " #   Column         Non-Null Count  Dtype  \n",
      "---  ------         --------------  -----  \n",
      " 0   Area           8680 non-null   object \n",
      " 1   City           8680 non-null   object \n",
      " 2   Restaurant     8680 non-null   object \n",
      " 3   Price          8680 non-null   int64  \n",
      " 4   Avg ratings    8680 non-null   float64\n",
      " 5   Total ratings  8680 non-null   int64  \n",
      " 6   Food type      8680 non-null   object \n",
      " 7   Address        8680 non-null   object \n",
      " 8   Delivery time  8680 non-null   int64  \n",
      "dtypes: float64(1), int64(3), object(5)\n",
      "memory usage: 610.4+ KB\n"
     ]
    }
   ],
   "source": [
    "sw.info() # provides a concise summary of the DataFrame"
   ]
  },
  {
   "cell_type": "code",
   "execution_count": 9,
   "metadata": {
    "_kg_hide-input": true,
    "execution": {
     "iopub.execute_input": "2024-04-03T14:05:39.681920Z",
     "iopub.status.busy": "2024-04-03T14:05:39.681528Z",
     "iopub.status.idle": "2024-04-03T14:05:39.712829Z",
     "shell.execute_reply": "2024-04-03T14:05:39.711711Z",
     "shell.execute_reply.started": "2024-04-03T14:05:39.681887Z"
    }
   },
   "outputs": [
    {
     "data": {
      "text/html": [
       "<div>\n",
       "<style scoped>\n",
       "    .dataframe tbody tr th:only-of-type {\n",
       "        vertical-align: middle;\n",
       "    }\n",
       "\n",
       "    .dataframe tbody tr th {\n",
       "        vertical-align: top;\n",
       "    }\n",
       "\n",
       "    .dataframe thead th {\n",
       "        text-align: right;\n",
       "    }\n",
       "</style>\n",
       "<table border=\"1\" class=\"dataframe\">\n",
       "  <thead>\n",
       "    <tr style=\"text-align: right;\">\n",
       "      <th></th>\n",
       "      <th>Price</th>\n",
       "      <th>Avg ratings</th>\n",
       "      <th>Total ratings</th>\n",
       "      <th>Delivery time</th>\n",
       "    </tr>\n",
       "  </thead>\n",
       "  <tbody>\n",
       "    <tr>\n",
       "      <th>count</th>\n",
       "      <td>8680.000000</td>\n",
       "      <td>8680.000000</td>\n",
       "      <td>8680.000000</td>\n",
       "      <td>8680.000000</td>\n",
       "    </tr>\n",
       "    <tr>\n",
       "      <th>mean</th>\n",
       "      <td>348.444470</td>\n",
       "      <td>3.655104</td>\n",
       "      <td>156.634793</td>\n",
       "      <td>53.967051</td>\n",
       "    </tr>\n",
       "    <tr>\n",
       "      <th>std</th>\n",
       "      <td>230.940074</td>\n",
       "      <td>0.647629</td>\n",
       "      <td>391.448014</td>\n",
       "      <td>14.292335</td>\n",
       "    </tr>\n",
       "    <tr>\n",
       "      <th>min</th>\n",
       "      <td>0.000000</td>\n",
       "      <td>2.000000</td>\n",
       "      <td>20.000000</td>\n",
       "      <td>20.000000</td>\n",
       "    </tr>\n",
       "    <tr>\n",
       "      <th>25%</th>\n",
       "      <td>200.000000</td>\n",
       "      <td>2.900000</td>\n",
       "      <td>50.000000</td>\n",
       "      <td>44.000000</td>\n",
       "    </tr>\n",
       "    <tr>\n",
       "      <th>50%</th>\n",
       "      <td>300.000000</td>\n",
       "      <td>3.900000</td>\n",
       "      <td>80.000000</td>\n",
       "      <td>53.000000</td>\n",
       "    </tr>\n",
       "    <tr>\n",
       "      <th>75%</th>\n",
       "      <td>400.000000</td>\n",
       "      <td>4.200000</td>\n",
       "      <td>100.000000</td>\n",
       "      <td>64.000000</td>\n",
       "    </tr>\n",
       "    <tr>\n",
       "      <th>max</th>\n",
       "      <td>2500.000000</td>\n",
       "      <td>5.000000</td>\n",
       "      <td>10000.000000</td>\n",
       "      <td>109.000000</td>\n",
       "    </tr>\n",
       "  </tbody>\n",
       "</table>\n",
       "</div>"
      ],
      "text/plain": [
       "             Price  Avg ratings  Total ratings  Delivery time\n",
       "count  8680.000000  8680.000000    8680.000000    8680.000000\n",
       "mean    348.444470     3.655104     156.634793      53.967051\n",
       "std     230.940074     0.647629     391.448014      14.292335\n",
       "min       0.000000     2.000000      20.000000      20.000000\n",
       "25%     200.000000     2.900000      50.000000      44.000000\n",
       "50%     300.000000     3.900000      80.000000      53.000000\n",
       "75%     400.000000     4.200000     100.000000      64.000000\n",
       "max    2500.000000     5.000000   10000.000000     109.000000"
      ]
     },
     "execution_count": 9,
     "metadata": {},
     "output_type": "execute_result"
    }
   ],
   "source": [
    "sw.describe() #provides descriptive statistics for each numeric column in the DataFrame "
   ]
  },
  {
   "cell_type": "markdown",
   "metadata": {},
   "source": [
    "**Findings:** \n",
    "* Average price of restaurants =<300,<300 and >2500\n",
    "* Average rating of all the restaurants = 3.65\n",
    "* Average Delivery Time of the restaurants = 54 minutes\n",
    "\n",
    " "
   ]
  },
  {
   "cell_type": "code",
   "execution_count": 10,
   "metadata": {
    "execution": {
     "iopub.execute_input": "2024-04-03T14:05:39.714818Z",
     "iopub.status.busy": "2024-04-03T14:05:39.714332Z",
     "iopub.status.idle": "2024-04-03T14:05:39.730579Z",
     "shell.execute_reply": "2024-04-03T14:05:39.729409Z",
     "shell.execute_reply.started": "2024-04-03T14:05:39.714778Z"
    }
   },
   "outputs": [
    {
     "data": {
      "text/plain": [
       "Area             0\n",
       "City             0\n",
       "Restaurant       0\n",
       "Price            0\n",
       "Avg ratings      0\n",
       "Total ratings    0\n",
       "Food type        0\n",
       "Address          0\n",
       "Delivery time    0\n",
       "dtype: int64"
      ]
     },
     "execution_count": 10,
     "metadata": {},
     "output_type": "execute_result"
    }
   ],
   "source": [
    "sw.isnull().sum()# quickly identify the presence of missing values in a DataFrame #useful in data preprocessing and data cleaning workflows."
   ]
  },
  {
   "cell_type": "markdown",
   "metadata": {},
   "source": [
    "**Findings**: There are no Null values found in this data."
   ]
  },
  {
   "cell_type": "code",
   "execution_count": 11,
   "metadata": {
    "execution": {
     "iopub.execute_input": "2024-04-03T14:05:39.734915Z",
     "iopub.status.busy": "2024-04-03T14:05:39.734503Z",
     "iopub.status.idle": "2024-04-03T14:05:39.752158Z",
     "shell.execute_reply": "2024-04-03T14:05:39.750887Z",
     "shell.execute_reply.started": "2024-04-03T14:05:39.734873Z"
    }
   },
   "outputs": [
    {
     "data": {
      "text/plain": [
       "1"
      ]
     },
     "execution_count": 11,
     "metadata": {},
     "output_type": "execute_result"
    }
   ],
   "source": [
    "sw.duplicated().sum() #identify the repeating value in the DataFrame "
   ]
  },
  {
   "cell_type": "markdown",
   "metadata": {},
   "source": [
    "**Findings:** No need of Data cleaning process for this data set, as there is no Null values and Duplicates."
   ]
  },
  {
   "cell_type": "code",
   "execution_count": 12,
   "metadata": {
    "execution": {
     "iopub.execute_input": "2024-04-03T14:05:39.754421Z",
     "iopub.status.busy": "2024-04-03T14:05:39.754050Z",
     "iopub.status.idle": "2024-04-03T14:05:39.775473Z",
     "shell.execute_reply": "2024-04-03T14:05:39.774262Z",
     "shell.execute_reply.started": "2024-04-03T14:05:39.754390Z"
    }
   },
   "outputs": [
    {
     "data": {
      "text/plain": [
       "Area              833\n",
       "City                9\n",
       "Restaurant       7865\n",
       "Price             120\n",
       "Avg ratings        30\n",
       "Total ratings       8\n",
       "Food type        3734\n",
       "Address          2339\n",
       "Delivery time      81\n",
       "dtype: int64"
      ]
     },
     "execution_count": 12,
     "metadata": {},
     "output_type": "execute_result"
    }
   ],
   "source": [
    "sw.nunique() # Count the number of unique values in each column"
   ]
  },
  {
   "cell_type": "code",
   "execution_count": 13,
   "metadata": {
    "execution": {
     "iopub.execute_input": "2024-04-03T14:05:39.779666Z",
     "iopub.status.busy": "2024-04-03T14:05:39.778546Z",
     "iopub.status.idle": "2024-04-03T14:05:39.795404Z",
     "shell.execute_reply": "2024-04-03T14:05:39.794322Z",
     "shell.execute_reply.started": "2024-04-03T14:05:39.779621Z"
    }
   },
   "outputs": [
    {
     "data": {
      "text/plain": [
       "Restaurant\n",
       "La Pino'Z Pizza           13\n",
       "Nic Natural Ice Creams    10\n",
       "Baskin Robbins            10\n",
       "Subway                    10\n",
       "Kfc                        9\n",
       "                          ..\n",
       "Home Factory               1\n",
       "Meals And Bowls            1\n",
       "Waffle Dreams              1\n",
       "Pratik Restaurant          1\n",
       "Sassy Street               1\n",
       "Name: count, Length: 7865, dtype: int64"
      ]
     },
     "execution_count": 13,
     "metadata": {},
     "output_type": "execute_result"
    }
   ],
   "source": [
    "sw['Restaurant'].value_counts()#Counts the number of times each value appears in a series"
   ]
  },
  {
   "cell_type": "markdown",
   "metadata": {},
   "source": [
    "**Findings:** Most customers buy food from La Pino'Z Pizza"
   ]
  },
  {
   "cell_type": "code",
   "execution_count": 14,
   "metadata": {
    "execution": {
     "iopub.execute_input": "2024-04-03T14:05:39.798021Z",
     "iopub.status.busy": "2024-04-03T14:05:39.797262Z",
     "iopub.status.idle": "2024-04-03T14:05:39.806437Z",
     "shell.execute_reply": "2024-04-03T14:05:39.805293Z",
     "shell.execute_reply.started": "2024-04-03T14:05:39.797976Z"
    }
   },
   "outputs": [
    {
     "data": {
      "text/plain": [
       "5.0"
      ]
     },
     "execution_count": 14,
     "metadata": {},
     "output_type": "execute_result"
    }
   ],
   "source": [
    "sw['Avg ratings'].max() #maximum value of a list ie avg ratings"
   ]
  },
  {
   "cell_type": "code",
   "execution_count": 15,
   "metadata": {
    "execution": {
     "iopub.execute_input": "2024-04-03T14:05:39.808641Z",
     "iopub.status.busy": "2024-04-03T14:05:39.808125Z",
     "iopub.status.idle": "2024-04-03T14:05:39.821889Z",
     "shell.execute_reply": "2024-04-03T14:05:39.820506Z",
     "shell.execute_reply.started": "2024-04-03T14:05:39.808602Z"
    }
   },
   "outputs": [
    {
     "data": {
      "text/plain": [
       "2.0"
      ]
     },
     "execution_count": 15,
     "metadata": {},
     "output_type": "execute_result"
    }
   ],
   "source": [
    "sw['Avg ratings'].min()#min value of a list ie avg ratings "
   ]
  },
  {
   "cell_type": "code",
   "execution_count": 16,
   "metadata": {
    "execution": {
     "iopub.execute_input": "2024-04-03T14:05:39.824098Z",
     "iopub.status.busy": "2024-04-03T14:05:39.823476Z",
     "iopub.status.idle": "2024-04-03T14:05:39.861873Z",
     "shell.execute_reply": "2024-04-03T14:05:39.860911Z",
     "shell.execute_reply.started": "2024-04-03T14:05:39.824037Z"
    }
   },
   "outputs": [
    {
     "data": {
      "text/html": [
       "<div>\n",
       "<style scoped>\n",
       "    .dataframe tbody tr th:only-of-type {\n",
       "        vertical-align: middle;\n",
       "    }\n",
       "\n",
       "    .dataframe tbody tr th {\n",
       "        vertical-align: top;\n",
       "    }\n",
       "\n",
       "    .dataframe thead th {\n",
       "        text-align: right;\n",
       "    }\n",
       "</style>\n",
       "<table border=\"1\" class=\"dataframe\">\n",
       "  <thead>\n",
       "    <tr style=\"text-align: right;\">\n",
       "      <th></th>\n",
       "      <th></th>\n",
       "      <th>Delivery time</th>\n",
       "    </tr>\n",
       "    <tr>\n",
       "      <th>City</th>\n",
       "      <th>Restaurant</th>\n",
       "      <th></th>\n",
       "    </tr>\n",
       "  </thead>\n",
       "  <tbody>\n",
       "    <tr>\n",
       "      <th rowspan=\"5\" valign=\"top\">Ahmedabad</th>\n",
       "      <th>1000 Spicy</th>\n",
       "      <td>46</td>\n",
       "    </tr>\n",
       "    <tr>\n",
       "      <th>1441 Pizzeria</th>\n",
       "      <td>38</td>\n",
       "    </tr>\n",
       "    <tr>\n",
       "      <th>1944 The Hocco Kitchen</th>\n",
       "      <td>33</td>\n",
       "    </tr>\n",
       "    <tr>\n",
       "      <th>429 Restaurant</th>\n",
       "      <td>32</td>\n",
       "    </tr>\n",
       "    <tr>\n",
       "      <th>7 Days</th>\n",
       "      <td>48</td>\n",
       "    </tr>\n",
       "  </tbody>\n",
       "</table>\n",
       "</div>"
      ],
      "text/plain": [
       "                                  Delivery time\n",
       "City      Restaurant                           \n",
       "Ahmedabad 1000 Spicy                         46\n",
       "          1441 Pizzeria                      38\n",
       "          1944 The Hocco Kitchen             33\n",
       "          429 Restaurant                     32\n",
       "          7 Days                             48"
      ]
     },
     "execution_count": 16,
     "metadata": {},
     "output_type": "execute_result"
    }
   ],
   "source": [
    "sw.groupby(['City','Restaurant']).agg({'Delivery time':'max'}).head()  # Grouping by two columns"
   ]
  },
  {
   "cell_type": "markdown",
   "metadata": {},
   "source": [
    "# **DISCOVER MORE ABOUT DATA (EDA)**"
   ]
  },
  {
   "cell_type": "markdown",
   "metadata": {},
   "source": [
    "## * Area with Most number of Restaurants"
   ]
  },
  {
   "cell_type": "code",
   "execution_count": 17,
   "metadata": {
    "execution": {
     "iopub.execute_input": "2024-04-03T14:05:39.864199Z",
     "iopub.status.busy": "2024-04-03T14:05:39.863189Z",
     "iopub.status.idle": "2024-04-03T14:05:39.876708Z",
     "shell.execute_reply": "2024-04-03T14:05:39.875544Z",
     "shell.execute_reply.started": "2024-04-03T14:05:39.864165Z"
    }
   },
   "outputs": [
    {
     "data": {
      "text/plain": [
       "Area\n",
       "Rohini    257\n",
       "Name: Restaurant, dtype: int64"
      ]
     },
     "execution_count": 17,
     "metadata": {},
     "output_type": "execute_result"
    }
   ],
   "source": [
    "sw.groupby(\"Area\")[\"Restaurant\"].count().sort_values(ascending=False).head(1)"
   ]
  },
  {
   "cell_type": "markdown",
   "metadata": {},
   "source": [
    "# * Restaurant that has highest and lowest average rating"
   ]
  },
  {
   "cell_type": "code",
   "execution_count": 18,
   "metadata": {
    "execution": {
     "iopub.execute_input": "2024-04-03T14:05:39.878968Z",
     "iopub.status.busy": "2024-04-03T14:05:39.878499Z",
     "iopub.status.idle": "2024-04-03T14:05:39.908576Z",
     "shell.execute_reply": "2024-04-03T14:05:39.907620Z",
     "shell.execute_reply.started": "2024-04-03T14:05:39.878926Z"
    }
   },
   "outputs": [
    {
     "data": {
      "text/plain": [
       "Restaurant\n",
       "Diamond Market Pizza Jp    5.0\n",
       "Name: Avg ratings, dtype: float64"
      ]
     },
     "execution_count": 18,
     "metadata": {},
     "output_type": "execute_result"
    }
   ],
   "source": [
    "#highest\n",
    "\n",
    "sw.groupby(\"Restaurant\")[\"Avg ratings\"].mean().sort_values(ascending=False).head(1) # Grouping by two columns \n",
    "#After grouping, you can perform various aggregate operations such as sum(), mean(), count() etc. \n",
    "#sorting is done in descending order"
   ]
  },
  {
   "cell_type": "code",
   "execution_count": 19,
   "metadata": {
    "execution": {
     "iopub.execute_input": "2024-04-03T14:05:39.911141Z",
     "iopub.status.busy": "2024-04-03T14:05:39.910006Z",
     "iopub.status.idle": "2024-04-03T14:05:39.936850Z",
     "shell.execute_reply": "2024-04-03T14:05:39.935820Z",
     "shell.execute_reply.started": "2024-04-03T14:05:39.911097Z"
    }
   },
   "outputs": [
    {
     "data": {
      "text/plain": [
       "Restaurant\n",
       "Golden Dragon Chinese & Momo    2.0\n",
       "Name: Avg ratings, dtype: float64"
      ]
     },
     "execution_count": 19,
     "metadata": {},
     "output_type": "execute_result"
    }
   ],
   "source": [
    "#lowest\n",
    "\n",
    "sw.groupby(\"Restaurant\")[\"Avg ratings\"].mean().sort_values().head(1) #the sorting is done in ascending order by default"
   ]
  },
  {
   "cell_type": "markdown",
   "metadata": {},
   "source": [
    "# * Average price of food compared with all restaurants"
   ]
  },
  {
   "cell_type": "code",
   "execution_count": 20,
   "metadata": {
    "execution": {
     "iopub.execute_input": "2024-04-03T14:05:39.938517Z",
     "iopub.status.busy": "2024-04-03T14:05:39.938209Z",
     "iopub.status.idle": "2024-04-03T14:05:39.946712Z",
     "shell.execute_reply": "2024-04-03T14:05:39.945341Z",
     "shell.execute_reply.started": "2024-04-03T14:05:39.938491Z"
    }
   },
   "outputs": [
    {
     "data": {
      "text/plain": [
       "348.44"
      ]
     },
     "execution_count": 20,
     "metadata": {},
     "output_type": "execute_result"
    }
   ],
   "source": [
    "np.round(sw['Price'].mean(),2) #rounds the result to two decimal places"
   ]
  },
  {
   "cell_type": "markdown",
   "metadata": {},
   "source": [
    "# * Average delivery time across all orders"
   ]
  },
  {
   "cell_type": "code",
   "execution_count": 21,
   "metadata": {
    "execution": {
     "iopub.execute_input": "2024-04-03T14:05:39.948534Z",
     "iopub.status.busy": "2024-04-03T14:05:39.948207Z",
     "iopub.status.idle": "2024-04-03T14:05:39.959609Z",
     "shell.execute_reply": "2024-04-03T14:05:39.958543Z",
     "shell.execute_reply.started": "2024-04-03T14:05:39.948505Z"
    }
   },
   "outputs": [
    {
     "data": {
      "text/plain": [
       "53.97"
      ]
     },
     "execution_count": 21,
     "metadata": {},
     "output_type": "execute_result"
    }
   ],
   "source": [
    "np.round(sw[\"Delivery time\"].mean(),2)"
   ]
  },
  {
   "cell_type": "markdown",
   "metadata": {},
   "source": [
    "# * Restaurant that has fastest and slowest delivery time"
   ]
  },
  {
   "cell_type": "code",
   "execution_count": 22,
   "metadata": {
    "execution": {
     "iopub.execute_input": "2024-04-03T14:05:39.961508Z",
     "iopub.status.busy": "2024-04-03T14:05:39.961092Z",
     "iopub.status.idle": "2024-04-03T14:05:39.991233Z",
     "shell.execute_reply": "2024-04-03T14:05:39.989889Z",
     "shell.execute_reply.started": "2024-04-03T14:05:39.961468Z"
    }
   },
   "outputs": [
    {
     "data": {
      "text/plain": [
       "Restaurant\n",
       "Heavens Kitchen    109.0\n",
       "Name: Delivery time, dtype: float64"
      ]
     },
     "execution_count": 22,
     "metadata": {},
     "output_type": "execute_result"
    }
   ],
   "source": [
    "#slow\n",
    "sw.groupby(\"Restaurant\")[\"Delivery time\"].mean().sort_values(ascending=False).head(1)"
   ]
  },
  {
   "cell_type": "code",
   "execution_count": 23,
   "metadata": {
    "execution": {
     "iopub.execute_input": "2024-04-03T14:05:39.993886Z",
     "iopub.status.busy": "2024-04-03T14:05:39.993541Z",
     "iopub.status.idle": "2024-04-03T14:05:40.020854Z",
     "shell.execute_reply": "2024-04-03T14:05:40.019666Z",
     "shell.execute_reply.started": "2024-04-03T14:05:39.993857Z"
    }
   },
   "outputs": [
    {
     "data": {
      "text/plain": [
       "Restaurant\n",
       "Wah Ji Wah ( Budhvihar)    21.0\n",
       "Name: Delivery time, dtype: float64"
      ]
     },
     "execution_count": 23,
     "metadata": {},
     "output_type": "execute_result"
    }
   ],
   "source": [
    "#Fast\n",
    "sw.groupby(\"Restaurant\")[\"Delivery time\"].mean().sort_values().head(1)"
   ]
  },
  {
   "cell_type": "markdown",
   "metadata": {},
   "source": [
    "# **DATA ANALYSIS AND DATA VISUALIZATION**"
   ]
  },
  {
   "cell_type": "markdown",
   "metadata": {},
   "source": [
    "# 1) Top 5 cities with highest number of restuarants"
   ]
  },
  {
   "cell_type": "code",
   "execution_count": 24,
   "metadata": {
    "execution": {
     "iopub.execute_input": "2024-04-03T14:05:40.022613Z",
     "iopub.status.busy": "2024-04-03T14:05:40.022192Z",
     "iopub.status.idle": "2024-04-03T14:05:40.035685Z",
     "shell.execute_reply": "2024-04-03T14:05:40.034827Z",
     "shell.execute_reply.started": "2024-04-03T14:05:40.022572Z"
    }
   },
   "outputs": [
    {
     "data": {
      "text/plain": [
       "City\n",
       "Kolkata      1346\n",
       "Mumbai       1277\n",
       "Chennai      1106\n",
       "Pune         1090\n",
       "Hyderabad    1075\n",
       "Bangalore     946\n",
       "Ahmedabad     717\n",
       "Delhi         611\n",
       "Surat         512\n",
       "Name: count, dtype: int64"
      ]
     },
     "execution_count": 24,
     "metadata": {},
     "output_type": "execute_result"
    }
   ],
   "source": [
    "city_count=sw['City'].value_counts()\n",
    "city_count"
   ]
  },
  {
   "cell_type": "code",
   "execution_count": 25,
   "metadata": {
    "execution": {
     "iopub.execute_input": "2024-04-03T14:05:40.037760Z",
     "iopub.status.busy": "2024-04-03T14:05:40.037034Z",
     "iopub.status.idle": "2024-04-03T14:05:40.435687Z",
     "shell.execute_reply": "2024-04-03T14:05:40.434572Z",
     "shell.execute_reply.started": "2024-04-03T14:05:40.037697Z"
    }
   },
   "outputs": [
    {
     "data": {
      "image/png": "[encoded data removed]",
      "text/plain": [
       "<Figure size 1000x500 with 1 Axes>"
      ]
     },
     "metadata": {},
     "output_type": "display_data"
    }
   ],
   "source": [
    "plt.subplots(figsize=(10, 5)) # Create a new figure with a specific size\n",
    "city = sw.City.value_counts() # Count the number of restaurants in each city\n",
    "bar_colors = [\"Orange\" if i <5 else \"lightgrey\" for i in range(10)] # Determine colors for the bars based on the number of cities\n",
    "\n",
    "plt.bar(city.index,city.values,color=bar_colors) # Create a bar plot with cities on the x-axis and restaurant counts on the y-axis\n",
    "\n",
    "# Set the x-axis label,y-axis label,title of the plot\n",
    "plt.xlabel('Cities')\n",
    "plt.ylabel('Restuarant counts')\n",
    "plt.title('Cities with highest number of restuarants')\n",
    "plt.xticks(rotation=90)# Rotate the x-axis labels for better readability\n",
    "\n",
    "# Add text annotations to each bar showing the count of restaurants\n",
    "for i,v in enumerate(city.values):\n",
    "    plt.text(i,v,str(v),ha='center')\n",
    "    \n",
    "plt.show() # Display the plot"
   ]
  },
  {
   "cell_type": "markdown",
   "metadata": {},
   "source": [
    "**Findings:**\n",
    "\n",
    "* Top 5 number of restaurant - Kolkata, Mumbai, Chennai, Pune, Hyderabad (labled with their restuarants count).\n",
    "* Least is Surat and Delhi\n"
   ]
  },
  {
   "cell_type": "markdown",
   "metadata": {},
   "source": [
    "# 2) Top 5 Areas with highest number of restuarants"
   ]
  },
  {
   "cell_type": "code",
   "execution_count": 26,
   "metadata": {
    "execution": {
     "iopub.execute_input": "2024-04-03T14:05:40.437402Z",
     "iopub.status.busy": "2024-04-03T14:05:40.437053Z",
     "iopub.status.idle": "2024-04-03T14:05:43.720690Z",
     "shell.execute_reply": "2024-04-03T14:05:43.719534Z",
     "shell.execute_reply.started": "2024-04-03T14:05:40.437371Z"
    }
   },
   "outputs": [
    {
     "data": {
      "image/png": "[encoded data removed]",
      "text/plain": [
       "<Figure size 1000x500 with 1 Axes>"
      ]
     },
     "metadata": {},
     "output_type": "display_data"
    }
   ],
   "source": [
    "# Refer above ploting for understsnding\n",
    "plt.subplots(figsize=(10,5))\n",
    "Area = sw.Area.value_counts()\n",
    "bar_colors = [\"Orange\" if i <5 else \"lightgrey\" for i in range(10)]\n",
    "plt.bar(Area.index,Area.values,color=bar_colors)\n",
    "sw[\"Area\"].value_counts().head(10).plot(kind=\"bar\", xlabel=\"Area\", ylabel=\"Count\", title=\"Top 5 areas of restaurants\")\n",
    "plt.show()"
   ]
  },
  {
   "cell_type": "markdown",
   "metadata": {},
   "source": [
    "**Findings:** Top Areas of restuarants are - Rohini, Chembur, Kothrud, Andheri East, Navrangpura"
   ]
  },
  {
   "cell_type": "markdown",
   "metadata": {},
   "source": [
    "# 3) Distubution of Average ratings for the Restuarants by using Pie chart"
   ]
  },
  {
   "cell_type": "code",
   "execution_count": 27,
   "metadata": {
    "execution": {
     "iopub.execute_input": "2024-04-03T14:05:43.728311Z",
     "iopub.status.busy": "2024-04-03T14:05:43.727699Z",
     "iopub.status.idle": "2024-04-03T14:05:43.741750Z",
     "shell.execute_reply": "2024-04-03T14:05:43.740787Z",
     "shell.execute_reply.started": "2024-04-03T14:05:43.728277Z"
    }
   },
   "outputs": [
    {
     "data": {
      "text/plain": [
       "Avg ratings\n",
       "2.9    3279\n",
       "4.3     792\n",
       "4.2     754\n",
       "4.1     700\n",
       "4.4     573\n",
       "4.0     524\n",
       "3.9     421\n",
       "4.5     338\n",
       "3.8     313\n",
       "3.7     207\n",
       "4.6     166\n",
       "3.6     118\n",
       "4.7      96\n",
       "3.5      95\n",
       "3.4      60\n",
       "3.3      51\n",
       "3.2      45\n",
       "4.8      29\n",
       "3.1      26\n",
       "3.0      25\n",
       "5.0      18\n",
       "2.8      15\n",
       "4.9      15\n",
       "2.7      11\n",
       "2.2       3\n",
       "2.6       2\n",
       "2.5       1\n",
       "2.3       1\n",
       "2.0       1\n",
       "2.4       1\n",
       "Name: count, dtype: int64"
      ]
     },
     "execution_count": 27,
     "metadata": {},
     "output_type": "execute_result"
    }
   ],
   "source": [
    "sw['Avg ratings'].value_counts()"
   ]
  },
  {
   "cell_type": "code",
   "execution_count": 28,
   "metadata": {
    "execution": {
     "iopub.execute_input": "2024-04-03T14:05:43.743826Z",
     "iopub.status.busy": "2024-04-03T14:05:43.743205Z",
     "iopub.status.idle": "2024-04-03T14:05:44.013657Z",
     "shell.execute_reply": "2024-04-03T14:05:44.012028Z",
     "shell.execute_reply.started": "2024-04-03T14:05:43.743794Z"
    }
   },
   "outputs": [
    {
     "data": {
      "image/png": "[encoded data removed]",
      "text/plain": [
       "<Figure size 640x480 with 1 Axes>"
      ]
     },
     "metadata": {},
     "output_type": "display_data"
    }
   ],
   "source": [
    "# Filter restaurants with average ratings above 4.5,between 4.5 and 3 and below or equal to 3\n",
    "ar_45 = sw[sw['Avg ratings']>4.5]\n",
    "ar_btw = sw[(sw['Avg ratings'] >3) & (sw['Avg ratings'] <=4.5)]\n",
    "ar_blw = sw[sw['Avg ratings'] <= 3]\n",
    "\n",
    "# Calculate the percentage of restaurants with average ratings above 4.5,between 4.5 and 3 and below or equal to 3\n",
    "per_ar_45 = ar_45.shape[0]/sw.shape[0]\n",
    "per_ar_btw = ar_btw.shape[0]/sw.shape[0]\n",
    "per_ar_blw = ar_blw.shape[0]/sw.shape[0]\n",
    "\n",
    "labels = ['Above 4.5', 'Between 4.5 and 3', 'Below 3'] # Define labels for the pie chart\n",
    "colors = ['Brown', 'Salmon', 'Pink'] # Define colors for the pie chart\n",
    "fig, ax = plt.subplots() # Create a figure and axis object for the pie chart\n",
    "explode = (0,0.1,0) # Define explode to highlight the second slice (Between 4.5 and 3)\n",
    "ax.axis('equal') # Make the aspect ratio of the pie chart equal\n",
    "\n",
    "# Create the pie chart with percentages, colors, and other configurations\n",
    "ax.pie([per_ar_45, per_ar_btw, per_ar_blw],explode=explode,colors=colors,autopct='%1.1f%%',startangle=180,shadow=True)\n",
    "# Add a legend to the pie chart\n",
    "ax.legend(labels,title='Ratings Distibution', loc='center', bbox_to_anchor=(1.25,1))\n",
    "plt.show()"
   ]
  },
  {
   "cell_type": "markdown",
   "metadata": {},
   "source": [
    "**Findings:**\n",
    "* 3.0 is the most common rating for the restaurants, i.e between 4.5 and 3 and below 3 are more rated where the average is 3. \n",
    "* Above 4.5 is only 3.7%"
   ]
  },
  {
   "cell_type": "markdown",
   "metadata": {},
   "source": [
    "# 4) Comparing Average Ratings with Price"
   ]
  },
  {
   "cell_type": "code",
   "execution_count": 29,
   "metadata": {
    "execution": {
     "iopub.execute_input": "2024-04-03T14:05:44.017909Z",
     "iopub.status.busy": "2024-04-03T14:05:44.015961Z",
     "iopub.status.idle": "2024-04-03T14:05:44.328081Z",
     "shell.execute_reply": "2024-04-03T14:05:44.326811Z",
     "shell.execute_reply.started": "2024-04-03T14:05:44.017840Z"
    }
   },
   "outputs": [
    {
     "data": {
      "image/png": "[encoded data removed]",
      "text/plain": [
       "<Figure size 1100x300 with 1 Axes>"
      ]
     },
     "metadata": {},
     "output_type": "display_data"
    }
   ],
   "source": [
    "plt.figure(figsize=(11,3)) #sets the figure size for the plot. The width is set to 11 inches and the height to 3 inches.\n",
    "# Create a scatter plot using seaborn plots the \"Avg ratings\"on the x-axis and the \"Price\" column on the y-axis.\n",
    "sns.scatterplot(x=sw[\"Avg ratings\"],y=sw[\"Price\"],data=sw) \n",
    "plt.show()"
   ]
  },
  {
   "cell_type": "markdown",
   "metadata": {},
   "source": [
    "**Findings:** Higher prices likely to have higher ratings but most of the peple gave decent ratings for price between 1000-1500"
   ]
  },
  {
   "cell_type": "markdown",
   "metadata": {},
   "source": [
    "# 5) Top 5 Food types that customer prefer most to order on swiggy"
   ]
  },
  {
   "cell_type": "code",
   "execution_count": 30,
   "metadata": {
    "execution": {
     "iopub.execute_input": "2024-04-03T14:05:44.329624Z",
     "iopub.status.busy": "2024-04-03T14:05:44.329310Z",
     "iopub.status.idle": "2024-04-03T14:05:44.343573Z",
     "shell.execute_reply": "2024-04-03T14:05:44.342164Z",
     "shell.execute_reply.started": "2024-04-03T14:05:44.329596Z"
    }
   },
   "outputs": [
    {
     "data": {
      "text/plain": [
       "Food type\n",
       "Indian          389\n",
       "Chinese         277\n",
       "North Indian    246\n",
       "Fast Food       240\n",
       "South Indian    228\n",
       "Name: count, dtype: int64"
      ]
     },
     "execution_count": 30,
     "metadata": {},
     "output_type": "execute_result"
    }
   ],
   "source": [
    "sw['Food type'].value_counts().head()"
   ]
  },
  {
   "cell_type": "code",
   "execution_count": 31,
   "metadata": {
    "execution": {
     "iopub.execute_input": "2024-04-03T14:05:44.345691Z",
     "iopub.status.busy": "2024-04-03T14:05:44.345175Z",
     "iopub.status.idle": "2024-04-03T14:05:44.762231Z",
     "shell.execute_reply": "2024-04-03T14:05:44.761170Z",
     "shell.execute_reply.started": "2024-04-03T14:05:44.345646Z"
    }
   },
   "outputs": [
    {
     "data": {
      "image/png": "[encoded data removed]",
      "text/plain": [
       "<Figure size 1200x700 with 1 Axes>"
      ]
     },
     "metadata": {},
     "output_type": "display_data"
    }
   ],
   "source": [
    "# Refer above \"Top 5 cities ploting\"for understsnding\n",
    "plt.subplots(figsize=(12, 7))\n",
    "food = sw['Food type'].value_counts().head(10)\n",
    "bar_colors = [\"Yellow\" if i <5 else \"lightgrey\" for i in range(10)]\n",
    "plt.bar(food.index,food.values,color=bar_colors)\n",
    "plt.xlabel('Food Types')\n",
    "plt.ylabel('Number of Orders')\n",
    "plt.title('Top 5 Ordered Food Types')\n",
    "plt.xticks(rotation=90)\n",
    "for i,v in enumerate(food.values):\n",
    "    plt.text(i,v+.25,str(v),ha='center')\n",
    "plt.show()\n",
    "\n"
   ]
  },
  {
   "cell_type": "markdown",
   "metadata": {},
   "source": [
    "**Findings:** Indian food types are most prefered by consumer to order in swiggy  and beverages has the least"
   ]
  },
  {
   "cell_type": "markdown",
   "metadata": {},
   "source": [
    "# 6) Finding the Correlation between the variables - Price, Average ratings, Total Ratings and Delivery time."
   ]
  },
  {
   "cell_type": "markdown",
   "metadata": {},
   "source": [
    "**correlation coefficient between the variables**.\n",
    "* where 1 indicates a perfect positive correlation.\n",
    "* -1 indicates a perfect negative correlation\n",
    "* And 0 indicates no correlation."
   ]
  },
  {
   "cell_type": "code",
   "execution_count": 32,
   "metadata": {
    "execution": {
     "iopub.execute_input": "2024-04-03T14:05:44.764450Z",
     "iopub.status.busy": "2024-04-03T14:05:44.764117Z",
     "iopub.status.idle": "2024-04-03T14:05:45.139061Z",
     "shell.execute_reply": "2024-04-03T14:05:45.138034Z",
     "shell.execute_reply.started": "2024-04-03T14:05:44.764419Z"
    }
   },
   "outputs": [
    {
     "data": {
      "image/png": "[encoded data removed]",
      "text/plain": [
       "<Figure size 640x480 with 2 Axes>"
      ]
     },
     "metadata": {},
     "output_type": "display_data"
    }
   ],
   "source": [
    "sw=sw[[\"Price\",\"Avg ratings\",\"Total ratings\",\"Delivery time\"]] # Select specific columns from the DataFrame sw\n",
    "corr=sw.corr() # Calculate the correlation matrix\n",
    "\n",
    "#Create a heatmap using seaborn to visualize the correlation matrix\n",
    "#annot=True parameter adds annotations (correlation values) to the cells, and cmap=\"viridis\" sets the color map to \"viridis\".\n",
    "sns.heatmap(corr,annot=True,cmap=\"viridis\")\n",
    "\n",
    "plt.title(\"Correlation Matrix\") # Add a title to the plot\n",
    "plt.show()"
   ]
  },
  {
   "cell_type": "code",
   "execution_count": 33,
   "metadata": {
    "execution": {
     "iopub.execute_input": "2024-04-03T14:05:45.141035Z",
     "iopub.status.busy": "2024-04-03T14:05:45.140687Z",
     "iopub.status.idle": "2024-04-03T14:05:45.433711Z",
     "shell.execute_reply": "2024-04-03T14:05:45.432502Z",
     "shell.execute_reply.started": "2024-04-03T14:05:45.141005Z"
    }
   },
   "outputs": [
    {
     "data": {
      "image/png": "[encoded data removed]",
      "text/plain": [
       "<Figure size 640x480 with 2 Axes>"
      ]
     },
     "metadata": {},
     "output_type": "display_data"
    }
   ],
   "source": [
    "sw=sw[[\"Delivery time\",\"Total ratings\"]]\n",
    "corr=sw.corr()\n",
    "sns.heatmap(corr,annot=True,cmap=\"BuPu\")\n",
    "plt.show()"
   ]
  },
  {
   "cell_type": "markdown",
   "metadata": {},
   "source": [
    "**Findings:** \n",
    "* Representing the Correlation between the average ratings, price and the delivery time.\n",
    "* We can see that Delivery time affects Average ratings it is going Negative i.e higher delivey time gets less ratings where as less delivery time gets good ratings.\n",
    "*  Implies that increase in delivery time decrease the average rating of the restaurants \n"
   ]
  },
  {
   "cell_type": "markdown",
   "metadata": {},
   "source": [
    "# **Conclusion**"
   ]
  },
  {
   "cell_type": "markdown",
   "metadata": {},
   "source": [
    "In conclusion, our analysis of Swiggy data provides valuable insights into customer behavior, restaurant preferences, and delivery patterns. \n",
    "We observed that certain cuisines and restaurant chains are more popular among users, indicating potential areas for targeted marketing and partnership opportunities.Furthermore, we found that delivery times vary depending on factors such as location and order volume, highlighting the importance of optimizing delivery logistics to enhance customer satisfaction. Insights from our analysis can help Swiggy improve operational efficiency, enhance customer experience, and drive business growth.\n",
    "\n",
    "**Suggestions :** As Delivery time and Customer satisfaction are inter-linked, where increase in Delivery time decrease the Average ratings.\n",
    "\n",
    " We suggest that to improve:\n",
    " \n",
    "*  Route Optimization\n",
    "*  Real time Tracking\n",
    "*  Delivery Time Guarantee\n",
    "*  Expanded Delivery Network\n",
    "*  Delivery Partners\n",
    "*  Technology Integration\n",
    "*  Environmental Sustainability"
   ]
  }
 ],
 "metadata": {
  "kaggle": {
   "accelerator": "none",
   "dataSources": [
    {
     "datasetId": 3526308,
     "sourceId": 6148807,
     "sourceType": "datasetVersion"
    }
   ],
   "dockerImageVersionId": 30673,
   "isGpuEnabled": false,
   "isInternetEnabled": false,
   "language": "python",
   "sourceType": "notebook"
  },
  "kernelspec": {
   "display_name": "Python 3 (ipykernel)",
   "language": "python",
   "name": "python3"
  },
  "language_info": {
   "codemirror_mode": {
    "name": "ipython",
    "version": 3
   },
   "file_extension": ".py",
   "mimetype": "text/x-python",
   "name": "python",
   "nbconvert_exporter": "python",
   "pygments_lexer": "ipython3",
   "version": "3.11.5"
  }
 },
 "nbformat": 4,
 "nbformat_minor": 4
}
